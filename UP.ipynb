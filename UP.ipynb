{
 "cells": [
  {
   "cell_type": "code",
   "execution_count": 7,
   "id": "b12afa09",
   "metadata": {},
   "outputs": [],
   "source": [
    "import markdown\n",
    "import os\n",
    "from SQLite import SQLite\n",
    "import re\n",
    "\n",
    "def markdown_to_html(file_path):\n",
    "    f = open(file_path, \"r\", encoding=\"utf-8\")\n",
    "    md = f.read()\n",
    "    f.close()\n",
    "    html = markdown.markdown(md, extensions=[\"tables\", \"fenced_code\"])\n",
    "    info = re.findall(r\"## 概述\\n(.+?)\\n+##\", md, re.DOTALL)[0]\n",
    "    info = re.sub(r\"\\s\", \"\", info)\n",
    "    return info, html, md"
   ]
  },
  {
   "cell_type": "code",
   "execution_count": 8,
   "id": "7c6477d1",
   "metadata": {},
   "outputs": [],
   "source": [
    "path_a = \"data\"\n",
    "data_list = []\n",
    "n = 1\n",
    "for b in os.listdir(path_a):\n",
    "    path_b = f\"{path_a}/{b}\"\n",
    "    for c in os.listdir(path_b):\n",
    "        if c.endswith(\".html\") or c.endswith(\".HTML\"):\n",
    "            continue\n",
    "        path_c = f\"{path_b}/{c}\"\n",
    "        info, html, md = markdown_to_html(path_c)\n",
    "        data_list.append((n, b[3:], c[3:-3], info, html, md))\n",
    "        n += 1"
   ]
  },
  {
   "cell_type": "code",
   "execution_count": 9,
   "id": "db6711f5",
   "metadata": {},
   "outputs": [],
   "source": [
    "sqlite = SQLite()\n",
    "sqlite.del_all()\n",
    "sqlite.insert(data_list)"
   ]
  },
  {
   "cell_type": "code",
   "execution_count": 10,
   "id": "4036eb09",
   "metadata": {},
   "outputs": [],
   "source": [
    "sqlite.commit().close()"
   ]
  }
 ],
 "metadata": {
  "kernelspec": {
   "display_name": "Python 3",
   "language": "python",
   "name": "python3"
  },
  "language_info": {
   "codemirror_mode": {
    "name": "ipython",
    "version": 3
   },
   "file_extension": ".py",
   "mimetype": "text/x-python",
   "name": "python",
   "nbconvert_exporter": "python",
   "pygments_lexer": "ipython3",
   "version": "3.13.5"
  }
 },
 "nbformat": 4,
 "nbformat_minor": 5
}
