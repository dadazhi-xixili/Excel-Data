{
 "cells": [
  {
   "cell_type": "code",
   "execution_count": 1,
   "id": "b12afa09",
   "metadata": {},
   "outputs": [],
   "source": [
    "import markdown\n",
    "import os\n",
    "from SQLite import SQLite\n",
    "import re\n",
    "\n",
    "def markdown_to_html(file_path):\n",
    "    f = open(file_path, \"r\", encoding=\"utf-8\")\n",
    "    md = f.read()\n",
    "    f.close()\n",
    "    if md ==  '':\n",
    "        return '', '', ''\n",
    "    html = markdown.markdown(md, extensions=[\"tables\", \"fenced_code\"])\n",
    "    info = re.findall(r\"## 概述\\n(.+?)\\n+##\", md, re.DOTALL)[0]\n",
    "    info = re.sub(r\"\\s\", \"\", info)\n",
    "    return info, html, md"
   ]
  },
  {
   "cell_type": "code",
   "execution_count": null,
   "id": "7c6477d1",
   "metadata": {},
   "outputs": [
    {
     "ename": "IndexError",
     "evalue": "list index out of range",
     "output_type": "error",
     "traceback": [
      "\u001b[31m---------------------------------------------------------------------------\u001b[39m",
      "\u001b[31mIndexError\u001b[39m                                Traceback (most recent call last)",
      "\u001b[36mCell\u001b[39m\u001b[36m \u001b[39m\u001b[32mIn[2]\u001b[39m\u001b[32m, line 8\u001b[39m\n\u001b[32m      6\u001b[39m \u001b[38;5;28;01mfor\u001b[39;00m c \u001b[38;5;129;01min\u001b[39;00m os.listdir(path_b):\n\u001b[32m      7\u001b[39m     path_c = \u001b[33mf\u001b[39m\u001b[33m\"\u001b[39m\u001b[38;5;132;01m{\u001b[39;00mpath_b\u001b[38;5;132;01m}\u001b[39;00m\u001b[33m/\u001b[39m\u001b[38;5;132;01m{\u001b[39;00mc\u001b[38;5;132;01m}\u001b[39;00m\u001b[33m\"\u001b[39m\n\u001b[32m----> \u001b[39m\u001b[32m8\u001b[39m     info, html, md = \u001b[43mmarkdown_to_html\u001b[49m\u001b[43m(\u001b[49m\u001b[43mpath_c\u001b[49m\u001b[43m)\u001b[49m\n\u001b[32m      9\u001b[39m     \u001b[38;5;28;01mif\u001b[39;00m info == \u001b[33m'\u001b[39m\u001b[33m'\u001b[39m:\n\u001b[32m     10\u001b[39m         \u001b[38;5;28;01mcontinue\u001b[39;00m\n",
      "\u001b[36mCell\u001b[39m\u001b[36m \u001b[39m\u001b[32mIn[1]\u001b[39m\u001b[32m, line 13\u001b[39m, in \u001b[36mmarkdown_to_html\u001b[39m\u001b[34m(file_path)\u001b[39m\n\u001b[32m     11\u001b[39m     \u001b[38;5;28;01mreturn\u001b[39;00m \u001b[33m'\u001b[39m\u001b[33m'\u001b[39m, \u001b[33m'\u001b[39m\u001b[33m'\u001b[39m, \u001b[33m'\u001b[39m\u001b[33m'\u001b[39m\n\u001b[32m     12\u001b[39m html = markdown.markdown(md, extensions=[\u001b[33m\"\u001b[39m\u001b[33mtables\u001b[39m\u001b[33m\"\u001b[39m, \u001b[33m\"\u001b[39m\u001b[33mfenced_code\u001b[39m\u001b[33m\"\u001b[39m])\n\u001b[32m---> \u001b[39m\u001b[32m13\u001b[39m info = \u001b[43mre\u001b[49m\u001b[43m.\u001b[49m\u001b[43mfindall\u001b[49m\u001b[43m(\u001b[49m\u001b[33;43mr\u001b[39;49m\u001b[33;43m\"\u001b[39;49m\u001b[33;43m## 概述\u001b[39;49m\u001b[33;43m\\\u001b[39;49m\u001b[33;43mn(.+?)\u001b[39;49m\u001b[33;43m\\\u001b[39;49m\u001b[33;43mn+##\u001b[39;49m\u001b[33;43m\"\u001b[39;49m\u001b[43m,\u001b[49m\u001b[43m \u001b[49m\u001b[43mmd\u001b[49m\u001b[43m,\u001b[49m\u001b[43m \u001b[49m\u001b[43mre\u001b[49m\u001b[43m.\u001b[49m\u001b[43mDOTALL\u001b[49m\u001b[43m)\u001b[49m\u001b[43m[\u001b[49m\u001b[32;43m0\u001b[39;49m\u001b[43m]\u001b[49m\n\u001b[32m     14\u001b[39m info = re.sub(\u001b[33mr\u001b[39m\u001b[33m\"\u001b[39m\u001b[33m\\\u001b[39m\u001b[33ms\u001b[39m\u001b[33m\"\u001b[39m, \u001b[33m\"\u001b[39m\u001b[33m\"\u001b[39m, info)\n\u001b[32m     15\u001b[39m \u001b[38;5;28;01mreturn\u001b[39;00m info, html, md\n",
      "\u001b[31mIndexError\u001b[39m: list index out of range"
     ]
    }
   ],
   "source": [
    "path_a = \"data\"\n",
    "data_list = []\n",
    "n = 1\n",
    "for b in os.listdir(path_a):\n",
    "\tpath_b = f\"{path_a}/{b}\"\n",
    "\tfor c in os.listdir(path_b):\n",
    "\t\tpath_c = f\"{path_b}/{c}\"\n",
    "\t\ttry:\n",
    "\t\t\tinfo, html, md = markdown_to_html(path_c)\n",
    "\t\t\tif info == '':\n",
    "\t\t\t\tcontinue\n",
    "\t\t\tdata_list.append((n, b[3:], c[3:-3], info, html, md))\n",
    "\t\t\tn += 1\n",
    "\t\texcept Exception as e:\n",
    "\t\t\tprint(c)\n",
    "\t\t\tbreak"
   ]
  },
  {
   "cell_type": "code",
   "execution_count": null,
   "id": "db6711f5",
   "metadata": {},
   "outputs": [],
   "source": [
    "sqlite = SQLite()\n",
    "sqlite.del_all()\n",
    "sqlite.insert(data_list)"
   ]
  },
  {
   "cell_type": "code",
   "execution_count": null,
   "id": "4036eb09",
   "metadata": {},
   "outputs": [],
   "source": [
    "sqlite.commit().close()"
   ]
  }
 ],
 "metadata": {
  "kernelspec": {
   "display_name": "Python 3",
   "language": "python",
   "name": "python3"
  },
  "language_info": {
   "codemirror_mode": {
    "name": "ipython",
    "version": 3
   },
   "file_extension": ".py",
   "mimetype": "text/x-python",
   "name": "python",
   "nbconvert_exporter": "python",
   "pygments_lexer": "ipython3",
   "version": "3.13.5"
  }
 },
 "nbformat": 4,
 "nbformat_minor": 5
}
