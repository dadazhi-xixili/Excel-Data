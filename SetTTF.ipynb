{
 "cells": [
  {
   "cell_type": "code",
   "execution_count": 1,
   "id": "418a30d8",
   "metadata": {},
   "outputs": [],
   "source": [
    "from fontTools import subset\n",
    "import os"
   ]
  },
  {
   "cell_type": "code",
   "execution_count": 2,
   "id": "28aab8cc",
   "metadata": {},
   "outputs": [],
   "source": [
    "def get_file(path):\n",
    "    f = open(path, \"r\", encoding=\"utf-8\")\n",
    "    r = f.read()\n",
    "    f.close()\n",
    "    return r\n",
    "\n",
    "path_a = \"data\"\n",
    "data_list = []\n",
    "n = 1\n",
    "for b in os.listdir(path_a):\n",
    "    path_b = f\"{path_a}/{b}\"\n",
    "    for c in os.listdir(path_b):\n",
    "        data_list.append(f\"{path_b}/{c}\")\n",
    "chars = ''.join(set(''.join([get_file(x) for x in data_list])))\n",
    "\n",
    "def sub_ttf(font_path, output_path, chars):\n",
    "\toptions = subset.Options()\n",
    "\toptions.set(glyph_names=True)\n",
    "\toptions.set(layout_features=\"*\")\n",
    "\toptions.set(name_IDs=\"*\")\n",
    "\toptions.set(name_legacy=True)\n",
    "\toptions.set(name_languages=\"*\")\n",
    "\tsub = subset.Subsetter(options=options)\n",
    "\tsub.populate(text=chars)\n",
    "\tfont = subset.load_font(font_path, options)\n",
    "\tsub.subset(font)\n",
    "\tsubset.save_font(font, output_path, options)\n"
   ]
  },
  {
   "cell_type": "code",
   "execution_count": 3,
   "id": "e989eaeb",
   "metadata": {},
   "outputs": [],
   "source": [
    "sub_ttf(r'SarasaFixedSC-Regular.ttf', 'Sarasa.ttf', chars)"
   ]
  }
 ],
 "metadata": {
  "kernelspec": {
   "display_name": "Python 3",
   "language": "python",
   "name": "python3"
  },
  "language_info": {
   "codemirror_mode": {
    "name": "ipython",
    "version": 3
   },
   "file_extension": ".py",
   "mimetype": "text/x-python",
   "name": "python",
   "nbconvert_exporter": "python",
   "pygments_lexer": "ipython3",
   "version": "3.13.5"
  }
 },
 "nbformat": 4,
 "nbformat_minor": 5
}
